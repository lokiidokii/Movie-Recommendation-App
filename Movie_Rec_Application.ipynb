{
 "cells": [
  {
   "cell_type": "code",
   "execution_count": null,
   "id": "9a3bd926",
   "metadata": {},
   "outputs": [],
   "source": [
    "# ********************\n",
    "# Author: Hannah R Bergman\n",
    "# ********************\n",
    "\n",
    "# ********** INTRODUCTION **********\n",
    "\n",
    "# About Data Set: \n",
    "# ----------------------------------------------------------------\n",
    "# This data set was imported from MovieLens via GroupLens\n",
    "# It is a stable benchmark data set containing 25 million ratings\n",
    "# As well as 1 million tag applications applied to 62k movies by 162k users\n",
    "# The data set was released for public use on 12/2019 \n",
    "\n",
    "# COLLECTED DATASET: \n",
    "# ----------------------------------------------------------------\n",
    "# https://grouplens.org/datasets/movielens/25m/\n",
    "# Download ml-25m.zip file\n",
    "\n",
    "# Description of data set files and their attributes:\n",
    "# (These files will be included in the zip with this application)\n",
    "# ----------------------------------------------------------------\n",
    "# movies.csv\n",
    "# ratings.csv\n",
   ]
  },
  {
   "cell_type": "code",
   "execution_count": null,
   "id": "618a27ea",
   "metadata": {},
   "outputs": [],
   "source": [
    "# ********** READ IN MOVIE DATA **********\n",
    "\n",
    "# import pandas as pd \n",
    "# read in movies.csv"
   ]
  },
  {
   "cell_type": "code",
   "execution_count": 44,
   "id": "4ed03535",
   "metadata": {},
   "outputs": [],
   "source": [
    "import pandas as pd\n",
    "\n",
    "videos = pd.read_csv(\"movies.csv\")"
   ]
  },
  {
   "cell_type": "code",
   "execution_count": null,
   "id": "5e578754",
   "metadata": {},
   "outputs": [],
   "source": [
    "# ********** DESCRIPTIVE METHOD & VISUALIZATION ********** \n",
    "\n",
    "# Table list of all movie data from the data set\n",
    "# This shows all the movies, listed by their corresponding movieId, title, and the genres they're associated with (if available)"
   ]
  },
  {
   "cell_type": "code",
   "execution_count": 45,
   "id": "c01729d8",
   "metadata": {
    "scrolled": true
   },
   "outputs": [
    {
     "data": {
      "text/html": [
       "<div>\n",
       "<style scoped>\n",
       "    .dataframe tbody tr th:only-of-type {\n",
       "        vertical-align: middle;\n",
       "    }\n",
       "\n",
       "    .dataframe tbody tr th {\n",
       "        vertical-align: top;\n",
       "    }\n",
       "\n",
       "    .dataframe thead th {\n",
       "        text-align: right;\n",
       "    }\n",
       "</style>\n",
       "<table border=\"1\" class=\"dataframe\">\n",
       "  <thead>\n",
       "    <tr style=\"text-align: right;\">\n",
       "      <th></th>\n",
       "      <th>movieId</th>\n",
       "      <th>title</th>\n",
       "      <th>genres</th>\n",
       "    </tr>\n",
       "  </thead>\n",
       "  <tbody>\n",
       "    <tr>\n",
       "      <th>0</th>\n",
       "      <td>1</td>\n",
       "      <td>Toy Story (1995)</td>\n",
       "      <td>Adventure|Animation|Children|Comedy|Fantasy</td>\n",
       "    </tr>\n",
       "    <tr>\n",
       "      <th>1</th>\n",
       "      <td>2</td>\n",
       "      <td>Jumanji (1995)</td>\n",
       "      <td>Adventure|Children|Fantasy</td>\n",
       "    </tr>\n",
       "    <tr>\n",
       "      <th>2</th>\n",
       "      <td>3</td>\n",
       "      <td>Grumpier Old Men (1995)</td>\n",
       "      <td>Comedy|Romance</td>\n",
       "    </tr>\n",
       "    <tr>\n",
       "      <th>3</th>\n",
       "      <td>4</td>\n",
       "      <td>Waiting to Exhale (1995)</td>\n",
       "      <td>Comedy|Drama|Romance</td>\n",
       "    </tr>\n",
       "    <tr>\n",
       "      <th>4</th>\n",
       "      <td>5</td>\n",
       "      <td>Father of the Bride Part II (1995)</td>\n",
       "      <td>Comedy</td>\n",
       "    </tr>\n",
       "    <tr>\n",
       "      <th>...</th>\n",
       "      <td>...</td>\n",
       "      <td>...</td>\n",
       "      <td>...</td>\n",
       "    </tr>\n",
       "    <tr>\n",
       "      <th>62418</th>\n",
       "      <td>209157</td>\n",
       "      <td>We (2018)</td>\n",
       "      <td>Drama</td>\n",
       "    </tr>\n",
       "    <tr>\n",
       "      <th>62419</th>\n",
       "      <td>209159</td>\n",
       "      <td>Window of the Soul (2001)</td>\n",
       "      <td>Documentary</td>\n",
       "    </tr>\n",
       "    <tr>\n",
       "      <th>62420</th>\n",
       "      <td>209163</td>\n",
       "      <td>Bad Poems (2018)</td>\n",
       "      <td>Comedy|Drama</td>\n",
       "    </tr>\n",
       "    <tr>\n",
       "      <th>62421</th>\n",
       "      <td>209169</td>\n",
       "      <td>A Girl Thing (2001)</td>\n",
       "      <td>(no genres listed)</td>\n",
       "    </tr>\n",
       "    <tr>\n",
       "      <th>62422</th>\n",
       "      <td>209171</td>\n",
       "      <td>Women of Devil's Island (1962)</td>\n",
       "      <td>Action|Adventure|Drama</td>\n",
       "    </tr>\n",
       "  </tbody>\n",
       "</table>\n",
       "<p>62423 rows × 3 columns</p>\n",
       "</div>"
      ],
      "text/plain": [
       "       movieId                               title  \\\n",
       "0            1                    Toy Story (1995)   \n",
       "1            2                      Jumanji (1995)   \n",
       "2            3             Grumpier Old Men (1995)   \n",
       "3            4            Waiting to Exhale (1995)   \n",
       "4            5  Father of the Bride Part II (1995)   \n",
       "...        ...                                 ...   \n",
       "62418   209157                           We (2018)   \n",
       "62419   209159           Window of the Soul (2001)   \n",
       "62420   209163                    Bad Poems (2018)   \n",
       "62421   209169                 A Girl Thing (2001)   \n",
       "62422   209171      Women of Devil's Island (1962)   \n",
       "\n",
       "                                            genres  \n",
       "0      Adventure|Animation|Children|Comedy|Fantasy  \n",
       "1                       Adventure|Children|Fantasy  \n",
       "2                                   Comedy|Romance  \n",
       "3                             Comedy|Drama|Romance  \n",
       "4                                           Comedy  \n",
       "...                                            ...  \n",
       "62418                                        Drama  \n",
       "62419                                  Documentary  \n",
       "62420                                 Comedy|Drama  \n",
       "62421                           (no genres listed)  \n",
       "62422                       Action|Adventure|Drama  \n",
       "\n",
       "[62423 rows x 3 columns]"
      ]
     },
     "execution_count": 45,
     "metadata": {},
     "output_type": "execute_result"
    }
   ],
   "source": [
    "videos"
   ]
  },
  {
   "cell_type": "code",
   "execution_count": null,
   "id": "fa869def",
   "metadata": {},
   "outputs": [],
   "source": [
    "# ********** CLEAN DATA WITH REGEX **********\n",
    "\n",
    "# search through each movie title and look for any characters that aren't a space, digit, or letter\n",
    "# remove () and other special characters in the movie's name"
   ]
  },
  {
   "cell_type": "code",
   "execution_count": 46,
   "id": "06bf50ec",
   "metadata": {},
   "outputs": [],
   "source": [
    "import re\n",
    "\n",
    "def clean_movie_title(title):\n",
    "    title = re.sub(\"[^a-zA-Z0-9 ]\", \"\", title)\n",
    "    return title"
   ]
  },
  {
   "cell_type": "code",
   "execution_count": 47,
   "id": "3585ef4a",
   "metadata": {},
   "outputs": [],
   "source": [
    "videos[\"clean_movie_title\"] = videos[\"title\"].apply(clean_movie_title)"
   ]
  },
  {
   "cell_type": "code",
   "execution_count": null,
   "id": "7fd4cb85",
   "metadata": {},
   "outputs": [],
   "source": [
    "# ********** DESCRIPTIVE METHOD ********** \n",
    "\n",
    "# Table list of movie data with cleaned data"
   ]
  },
  {
   "cell_type": "code",
   "execution_count": 48,
   "id": "44e31375",
   "metadata": {},
   "outputs": [
    {
     "data": {
      "text/html": [
       "<div>\n",
       "<style scoped>\n",
       "    .dataframe tbody tr th:only-of-type {\n",
       "        vertical-align: middle;\n",
       "    }\n",
       "\n",
       "    .dataframe tbody tr th {\n",
       "        vertical-align: top;\n",
       "    }\n",
       "\n",
       "    .dataframe thead th {\n",
       "        text-align: right;\n",
       "    }\n",
       "</style>\n",
       "<table border=\"1\" class=\"dataframe\">\n",
       "  <thead>\n",
       "    <tr style=\"text-align: right;\">\n",
       "      <th></th>\n",
       "      <th>movieId</th>\n",
       "      <th>title</th>\n",
       "      <th>genres</th>\n",
       "      <th>clean_movie_title</th>\n",
       "    </tr>\n",
       "  </thead>\n",
       "  <tbody>\n",
       "    <tr>\n",
       "      <th>0</th>\n",
       "      <td>1</td>\n",
       "      <td>Toy Story (1995)</td>\n",
       "      <td>Adventure|Animation|Children|Comedy|Fantasy</td>\n",
       "      <td>Toy Story 1995</td>\n",
       "    </tr>\n",
       "    <tr>\n",
       "      <th>1</th>\n",
       "      <td>2</td>\n",
       "      <td>Jumanji (1995)</td>\n",
       "      <td>Adventure|Children|Fantasy</td>\n",
       "      <td>Jumanji 1995</td>\n",
       "    </tr>\n",
       "    <tr>\n",
       "      <th>2</th>\n",
       "      <td>3</td>\n",
       "      <td>Grumpier Old Men (1995)</td>\n",
       "      <td>Comedy|Romance</td>\n",
       "      <td>Grumpier Old Men 1995</td>\n",
       "    </tr>\n",
       "    <tr>\n",
       "      <th>3</th>\n",
       "      <td>4</td>\n",
       "      <td>Waiting to Exhale (1995)</td>\n",
       "      <td>Comedy|Drama|Romance</td>\n",
       "      <td>Waiting to Exhale 1995</td>\n",
       "    </tr>\n",
       "    <tr>\n",
       "      <th>4</th>\n",
       "      <td>5</td>\n",
       "      <td>Father of the Bride Part II (1995)</td>\n",
       "      <td>Comedy</td>\n",
       "      <td>Father of the Bride Part II 1995</td>\n",
       "    </tr>\n",
       "    <tr>\n",
       "      <th>...</th>\n",
       "      <td>...</td>\n",
       "      <td>...</td>\n",
       "      <td>...</td>\n",
       "      <td>...</td>\n",
       "    </tr>\n",
       "    <tr>\n",
       "      <th>62418</th>\n",
       "      <td>209157</td>\n",
       "      <td>We (2018)</td>\n",
       "      <td>Drama</td>\n",
       "      <td>We 2018</td>\n",
       "    </tr>\n",
       "    <tr>\n",
       "      <th>62419</th>\n",
       "      <td>209159</td>\n",
       "      <td>Window of the Soul (2001)</td>\n",
       "      <td>Documentary</td>\n",
       "      <td>Window of the Soul 2001</td>\n",
       "    </tr>\n",
       "    <tr>\n",
       "      <th>62420</th>\n",
       "      <td>209163</td>\n",
       "      <td>Bad Poems (2018)</td>\n",
       "      <td>Comedy|Drama</td>\n",
       "      <td>Bad Poems 2018</td>\n",
       "    </tr>\n",
       "    <tr>\n",
       "      <th>62421</th>\n",
       "      <td>209169</td>\n",
       "      <td>A Girl Thing (2001)</td>\n",
       "      <td>(no genres listed)</td>\n",
       "      <td>A Girl Thing 2001</td>\n",
       "    </tr>\n",
       "    <tr>\n",
       "      <th>62422</th>\n",
       "      <td>209171</td>\n",
       "      <td>Women of Devil's Island (1962)</td>\n",
       "      <td>Action|Adventure|Drama</td>\n",
       "      <td>Women of Devils Island 1962</td>\n",
       "    </tr>\n",
       "  </tbody>\n",
       "</table>\n",
       "<p>62423 rows × 4 columns</p>\n",
       "</div>"
      ],
      "text/plain": [
       "       movieId                               title  \\\n",
       "0            1                    Toy Story (1995)   \n",
       "1            2                      Jumanji (1995)   \n",
       "2            3             Grumpier Old Men (1995)   \n",
       "3            4            Waiting to Exhale (1995)   \n",
       "4            5  Father of the Bride Part II (1995)   \n",
       "...        ...                                 ...   \n",
       "62418   209157                           We (2018)   \n",
       "62419   209159           Window of the Soul (2001)   \n",
       "62420   209163                    Bad Poems (2018)   \n",
       "62421   209169                 A Girl Thing (2001)   \n",
       "62422   209171      Women of Devil's Island (1962)   \n",
       "\n",
       "                                            genres  \\\n",
       "0      Adventure|Animation|Children|Comedy|Fantasy   \n",
       "1                       Adventure|Children|Fantasy   \n",
       "2                                   Comedy|Romance   \n",
       "3                             Comedy|Drama|Romance   \n",
       "4                                           Comedy   \n",
       "...                                            ...   \n",
       "62418                                        Drama   \n",
       "62419                                  Documentary   \n",
       "62420                                 Comedy|Drama   \n",
       "62421                           (no genres listed)   \n",
       "62422                       Action|Adventure|Drama   \n",
       "\n",
       "                      clean_movie_title  \n",
       "0                        Toy Story 1995  \n",
       "1                          Jumanji 1995  \n",
       "2                 Grumpier Old Men 1995  \n",
       "3                Waiting to Exhale 1995  \n",
       "4      Father of the Bride Part II 1995  \n",
       "...                                 ...  \n",
       "62418                           We 2018  \n",
       "62419           Window of the Soul 2001  \n",
       "62420                    Bad Poems 2018  \n",
       "62421                 A Girl Thing 2001  \n",
       "62422       Women of Devils Island 1962  \n",
       "\n",
       "[62423 rows x 4 columns]"
      ]
     },
     "execution_count": 48,
     "metadata": {},
     "output_type": "execute_result"
    }
   ],
   "source": [
    "videos"
   ]
  },
  {
   "cell_type": "code",
   "execution_count": null,
   "id": "6f00bdbd",
   "metadata": {},
   "outputs": [],
   "source": [
    "# ********** CREATE A TF*IDF MATRIX (TERM FREQUENCY*INVERSE DOCUMENT FREQUENCY) ********** \n",
    "\n",
    "# Import TFIDF Vectorizer from scikit-learn to \"do the math\" and prevent errors"
   ]
  },
  {
   "cell_type": "code",
   "execution_count": 135,
   "id": "858e93af",
   "metadata": {},
   "outputs": [],
   "source": [
    "from sklearn.feature_extraction.text import TfidfVectorizer\n",
    "multiword_vectorizer = TfidfVectorizer(ngram_range=(1,2)) #to search multi-word long titles\n",
    "\n",
    "tfidf_matrix = multiword_vectorizer.fit_transform(videos[\"clean_movie_title\"])"
   ]
  },
  {
   "cell_type": "code",
   "execution_count": null,
   "id": "5474ff54",
   "metadata": {},
   "outputs": [],
   "source": [
    "# ********** CREATE SEARCH FUNCTION ********** "
   ]
  },
  {
   "cell_type": "code",
   "execution_count": 136,
   "id": "56d38610",
   "metadata": {},
   "outputs": [],
   "source": [
    "from sklearn.metrics.pairwise import cosine_similarity\n",
    "import numpy as np\n",
    "\n",
    "def lookup_movie(title):\n",
    "    #title = \"Jurassic Park 1993\"\n",
    "    title = clean_movie_title(title)\n",
    "    query_vec = multiword_vectorizer.transform([title])\n",
    "    query_similarity = cosine_similarity(query_vec, tfidf_matrix).flatten()\n",
    "    indices = np.argpartition(query_similarity, -5)[-5:]\n",
    "    movie_recommendations = videos.iloc[indices][::-1]\n",
    "    return movie_recommendations"
   ]
  },
  {
   "cell_type": "code",
   "execution_count": 16,
   "id": "3f2a2856",
   "metadata": {},
   "outputs": [],
   "source": [
    "# ********** INTERACTIVE SEARCH BOX ********** \n",
    "\n",
    "# This is the interactive part of the application \n",
    "# Allows the user to search for movie recommendations"
   ]
  },
  {
   "cell_type": "code",
   "execution_count": 52,
   "id": "96ae9e86",
   "metadata": {},
   "outputs": [
    {
     "data": {
      "application/vnd.jupyter.widget-view+json": {
       "model_id": "b9c64ca7ab654a61b9bb9ab45f3eadbf",
       "version_major": 2,
       "version_minor": 0
      },
      "text/plain": [
       "Text(value='Jurassic Park', description='Movie Name:')"
      ]
     },
     "metadata": {},
     "output_type": "display_data"
    },
    {
     "data": {
      "application/vnd.jupyter.widget-view+json": {
       "model_id": "229d3d36bf7b4f4cb3eae42c7bb73f56",
       "version_major": 2,
       "version_minor": 0
      },
      "text/plain": [
       "Output()"
      ]
     },
     "metadata": {},
     "output_type": "display_data"
    }
   ],
   "source": [
    "import ipywidgets as widgets\n",
    "from IPython.display import display\n",
    "\n",
    "video_name = widgets.Text(\n",
    "    value=\"Jurassic Park\", # default example value\n",
    "    description=\"Movie Name:\",\n",
    "    disabled=False\n",
    ")\n",
    "\n",
    "your_movie_recommendations = widgets.Output()\n",
    "\n",
    "def movie_input(data):\n",
    "    with your_movie_recommendations:\n",
    "        your_movie_recommendations.clear_output() # clear list\n",
    "        title = data[\"new\"]\n",
    "        if len(title) > 5:\n",
    "            display(lookup_movie(title))\n",
    "\n",
    "video_name.observe(movie_input, names='value')\n",
    "\n",
    "display(video_name, your_movie_recommendations)\n",
    "\n",
    "# As you enter a movie name, the list should continually keep updating with new recommendations"
   ]
  },
  {
   "cell_type": "code",
   "execution_count": 25,
   "id": "a80c1f00",
   "metadata": {},
   "outputs": [],
   "source": [
    "# ********** READ IN MOVIE RATINGS DATA ********** "
   ]
  },
  {
   "cell_type": "code",
   "execution_count": 53,
   "id": "322ba154",
   "metadata": {},
   "outputs": [],
   "source": [
    "movie_ratings = pd.read_csv(\"ratings.csv\")"
   ]
  },
  {
   "cell_type": "code",
   "execution_count": 55,
   "id": "57e10145",
   "metadata": {},
   "outputs": [
    {
     "data": {
      "text/html": [
       "<div>\n",
       "<style scoped>\n",
       "    .dataframe tbody tr th:only-of-type {\n",
       "        vertical-align: middle;\n",
       "    }\n",
       "\n",
       "    .dataframe tbody tr th {\n",
       "        vertical-align: top;\n",
       "    }\n",
       "\n",
       "    .dataframe thead th {\n",
       "        text-align: right;\n",
       "    }\n",
       "</style>\n",
       "<table border=\"1\" class=\"dataframe\">\n",
       "  <thead>\n",
       "    <tr style=\"text-align: right;\">\n",
       "      <th></th>\n",
       "      <th>userId</th>\n",
       "      <th>movieId</th>\n",
       "      <th>rating</th>\n",
       "      <th>timestamp</th>\n",
       "    </tr>\n",
       "  </thead>\n",
       "  <tbody>\n",
       "    <tr>\n",
       "      <th>0</th>\n",
       "      <td>1</td>\n",
       "      <td>296</td>\n",
       "      <td>5.0</td>\n",
       "      <td>1147880044</td>\n",
       "    </tr>\n",
       "    <tr>\n",
       "      <th>1</th>\n",
       "      <td>1</td>\n",
       "      <td>306</td>\n",
       "      <td>3.5</td>\n",
       "      <td>1147868817</td>\n",
       "    </tr>\n",
       "    <tr>\n",
       "      <th>2</th>\n",
       "      <td>1</td>\n",
       "      <td>307</td>\n",
       "      <td>5.0</td>\n",
       "      <td>1147868828</td>\n",
       "    </tr>\n",
       "    <tr>\n",
       "      <th>3</th>\n",
       "      <td>1</td>\n",
       "      <td>665</td>\n",
       "      <td>5.0</td>\n",
       "      <td>1147878820</td>\n",
       "    </tr>\n",
       "    <tr>\n",
       "      <th>4</th>\n",
       "      <td>1</td>\n",
       "      <td>899</td>\n",
       "      <td>3.5</td>\n",
       "      <td>1147868510</td>\n",
       "    </tr>\n",
       "    <tr>\n",
       "      <th>...</th>\n",
       "      <td>...</td>\n",
       "      <td>...</td>\n",
       "      <td>...</td>\n",
       "      <td>...</td>\n",
       "    </tr>\n",
       "    <tr>\n",
       "      <th>25000090</th>\n",
       "      <td>162541</td>\n",
       "      <td>50872</td>\n",
       "      <td>4.5</td>\n",
       "      <td>1240953372</td>\n",
       "    </tr>\n",
       "    <tr>\n",
       "      <th>25000091</th>\n",
       "      <td>162541</td>\n",
       "      <td>55768</td>\n",
       "      <td>2.5</td>\n",
       "      <td>1240951998</td>\n",
       "    </tr>\n",
       "    <tr>\n",
       "      <th>25000092</th>\n",
       "      <td>162541</td>\n",
       "      <td>56176</td>\n",
       "      <td>2.0</td>\n",
       "      <td>1240950697</td>\n",
       "    </tr>\n",
       "    <tr>\n",
       "      <th>25000093</th>\n",
       "      <td>162541</td>\n",
       "      <td>58559</td>\n",
       "      <td>4.0</td>\n",
       "      <td>1240953434</td>\n",
       "    </tr>\n",
       "    <tr>\n",
       "      <th>25000094</th>\n",
       "      <td>162541</td>\n",
       "      <td>63876</td>\n",
       "      <td>5.0</td>\n",
       "      <td>1240952515</td>\n",
       "    </tr>\n",
       "  </tbody>\n",
       "</table>\n",
       "<p>25000095 rows × 4 columns</p>\n",
       "</div>"
      ],
      "text/plain": [
       "          userId  movieId  rating   timestamp\n",
       "0              1      296     5.0  1147880044\n",
       "1              1      306     3.5  1147868817\n",
       "2              1      307     5.0  1147868828\n",
       "3              1      665     5.0  1147878820\n",
       "4              1      899     3.5  1147868510\n",
       "...          ...      ...     ...         ...\n",
       "25000090  162541    50872     4.5  1240953372\n",
       "25000091  162541    55768     2.5  1240951998\n",
       "25000092  162541    56176     2.0  1240950697\n",
       "25000093  162541    58559     4.0  1240953434\n",
       "25000094  162541    63876     5.0  1240952515\n",
       "\n",
       "[25000095 rows x 4 columns]"
      ]
     },
     "execution_count": 55,
     "metadata": {},
     "output_type": "execute_result"
    }
   ],
   "source": [
    "movie_ratings"
   ]
  },
  {
   "cell_type": "code",
   "execution_count": 56,
   "id": "34840a7e",
   "metadata": {},
   "outputs": [
    {
     "data": {
      "text/plain": [
       "userId         int64\n",
       "movieId        int64\n",
       "rating       float64\n",
       "timestamp      int64\n",
       "dtype: object"
      ]
     },
     "execution_count": 56,
     "metadata": {},
     "output_type": "execute_result"
    }
   ],
   "source": [
    "movie_ratings.dtypes # check data type"
   ]
  },
  {
   "cell_type": "code",
   "execution_count": 30,
   "id": "dff2a1dc",
   "metadata": {},
   "outputs": [],
   "source": [
    "# ********** FIND USERS WHO LIKE THE SAME MOVIE ********** "
   ]
  },
  {
   "cell_type": "code",
   "execution_count": 70,
   "id": "a4953e4f",
   "metadata": {},
   "outputs": [],
   "source": [
    "movie_id = 480 # Movie ID for Jurassic Park"
   ]
  },
  {
   "cell_type": "code",
   "execution_count": 76,
   "id": "1a0762ff",
   "metadata": {},
   "outputs": [],
   "source": [
    "users_who_like_similar = movie_ratings[(movie_ratings[\"movieId\"] == movie_id) & (movie_ratings[\"rating\"] > 4)][\"userId\"].unique()"
   ]
  },
  {
   "cell_type": "code",
   "execution_count": 77,
   "id": "bbeb1f23",
   "metadata": {},
   "outputs": [
    {
     "data": {
      "text/plain": [
       "array([    32,     35,     41, ..., 162519, 162529, 162530])"
      ]
     },
     "execution_count": 77,
     "metadata": {},
     "output_type": "execute_result"
    }
   ],
   "source": [
    "users_who_like_similar # Set of people who also like Jurassic Park"
   ]
  },
  {
   "cell_type": "code",
   "execution_count": 78,
   "id": "7b0a2366",
   "metadata": {},
   "outputs": [],
   "source": [
    "# Find all of the movies users similar to us also liked"
   ]
  },
  {
   "cell_type": "code",
   "execution_count": 79,
   "id": "d02d020e",
   "metadata": {},
   "outputs": [],
   "source": [
    "similar_user_recommendations = movie_ratings[(movie_ratings[\"userId\"].isin(users_who_like_similar)) & (movie_ratings[\"rating\"] > 4)][\"movieId\"]"
   ]
  },
  {
   "cell_type": "code",
   "execution_count": 80,
   "id": "e89b814e",
   "metadata": {},
   "outputs": [
    {
     "data": {
      "text/plain": [
       "4973         296\n",
       "4974         318\n",
       "4976         349\n",
       "4977         356\n",
       "4987         480\n",
       "            ... \n",
       "24998388    3706\n",
       "24998389    3735\n",
       "24998391    3763\n",
       "24998392    4187\n",
       "24998393    4321\n",
       "Name: movieId, Length: 1054204, dtype: int64"
      ]
     },
     "execution_count": 80,
     "metadata": {},
     "output_type": "execute_result"
    }
   ],
   "source": [
    "similar_user_recommendations"
   ]
  },
  {
   "cell_type": "code",
   "execution_count": 81,
   "id": "9086a71b",
   "metadata": {},
   "outputs": [
    {
     "data": {
      "text/plain": [
       "480       15084\n",
       "356        7060\n",
       "318        6720\n",
       "589        6056\n",
       "260        6032\n",
       "          ...  \n",
       "154484        1\n",
       "152767        1\n",
       "151900        1\n",
       "151687        1\n",
       "7625          1\n",
       "Name: movieId, Length: 18002, dtype: int64"
      ]
     },
     "execution_count": 81,
     "metadata": {},
     "output_type": "execute_result"
    }
   ],
   "source": [
    "similar_user_recommendations.value_counts() # Count how many times ea movie appears in our particular data set"
   ]
  },
  {
   "cell_type": "code",
   "execution_count": 82,
   "id": "12653635",
   "metadata": {},
   "outputs": [],
   "source": [
    "# Movie with ID 480 (Jurassic Park) appears 15,084 times"
   ]
  },
  {
   "cell_type": "code",
   "execution_count": 87,
   "id": "df763cb4",
   "metadata": {},
   "outputs": [],
   "source": [
    "similar_user_recommendations = similar_user_recommendations.value_counts() / len(users_who_like_similar) # convert into a percentage\n",
    "\n",
    "similar_user_recommendations = similar_user_recommendations[similar_user_recommendations > .10] # only take the ones greater than 10%"
   ]
  },
  {
   "cell_type": "code",
   "execution_count": 88,
   "id": "e9a7a045",
   "metadata": {},
   "outputs": [
    {
     "data": {
      "text/plain": [
       "480     1.000000\n",
       "356     0.468046\n",
       "318     0.445505\n",
       "589     0.401485\n",
       "260     0.399894\n",
       "          ...   \n",
       "3793    0.101565\n",
       "912     0.101167\n",
       "750     0.101167\n",
       "587     0.100305\n",
       "1732    0.100305\n",
       "Name: movieId, Length: 106, dtype: float64"
      ]
     },
     "execution_count": 88,
     "metadata": {},
     "output_type": "execute_result"
    }
   ],
   "source": [
    "similar_user_recommendations"
   ]
  },
  {
   "cell_type": "code",
   "execution_count": 86,
   "id": "1f81d492",
   "metadata": {},
   "outputs": [],
   "source": [
    "# Gives us the movies that were > 10% liked, a set of 106 movies\n",
    "\n",
    "# This is only specific to the movie we entered \n",
    "# so we need to find how much ALL of the users in our data set like these movies"
   ]
  },
  {
   "cell_type": "code",
   "execution_count": 90,
   "id": "44dca3f2",
   "metadata": {},
   "outputs": [],
   "source": [
    "# ********** FIND HOW MUCH ALL USERS LIKE MOVIES ********** "
   ]
  },
  {
   "cell_type": "code",
   "execution_count": 91,
   "id": "36f44a18",
   "metadata": {},
   "outputs": [],
   "source": [
    "# Find anyone who has rated a movie in our set of recommended movies \n",
    "# and people who have rated the movies highly"
   ]
  },
  {
   "cell_type": "code",
   "execution_count": 92,
   "id": "870d6958",
   "metadata": {},
   "outputs": [],
   "source": [
    "all_users_in_dataset = movie_ratings[(movie_ratings[\"movieId\"].isin(similar_user_recommendations.index)) & (movie_ratings[\"rating\"] > 4)]"
   ]
  },
  {
   "cell_type": "code",
   "execution_count": 93,
   "id": "db93ade5",
   "metadata": {},
   "outputs": [
    {
     "data": {
      "text/html": [
       "<div>\n",
       "<style scoped>\n",
       "    .dataframe tbody tr th:only-of-type {\n",
       "        vertical-align: middle;\n",
       "    }\n",
       "\n",
       "    .dataframe tbody tr th {\n",
       "        vertical-align: top;\n",
       "    }\n",
       "\n",
       "    .dataframe thead th {\n",
       "        text-align: right;\n",
       "    }\n",
       "</style>\n",
       "<table border=\"1\" class=\"dataframe\">\n",
       "  <thead>\n",
       "    <tr style=\"text-align: right;\">\n",
       "      <th></th>\n",
       "      <th>userId</th>\n",
       "      <th>movieId</th>\n",
       "      <th>rating</th>\n",
       "      <th>timestamp</th>\n",
       "    </tr>\n",
       "  </thead>\n",
       "  <tbody>\n",
       "    <tr>\n",
       "      <th>0</th>\n",
       "      <td>1</td>\n",
       "      <td>296</td>\n",
       "      <td>5.0</td>\n",
       "      <td>1147880044</td>\n",
       "    </tr>\n",
       "    <tr>\n",
       "      <th>29</th>\n",
       "      <td>1</td>\n",
       "      <td>4973</td>\n",
       "      <td>4.5</td>\n",
       "      <td>1147869080</td>\n",
       "    </tr>\n",
       "    <tr>\n",
       "      <th>48</th>\n",
       "      <td>1</td>\n",
       "      <td>7361</td>\n",
       "      <td>5.0</td>\n",
       "      <td>1147880055</td>\n",
       "    </tr>\n",
       "    <tr>\n",
       "      <th>72</th>\n",
       "      <td>2</td>\n",
       "      <td>110</td>\n",
       "      <td>5.0</td>\n",
       "      <td>1141416589</td>\n",
       "    </tr>\n",
       "    <tr>\n",
       "      <th>76</th>\n",
       "      <td>2</td>\n",
       "      <td>260</td>\n",
       "      <td>5.0</td>\n",
       "      <td>1141417172</td>\n",
       "    </tr>\n",
       "    <tr>\n",
       "      <th>...</th>\n",
       "      <td>...</td>\n",
       "      <td>...</td>\n",
       "      <td>...</td>\n",
       "      <td>...</td>\n",
       "    </tr>\n",
       "    <tr>\n",
       "      <th>25000057</th>\n",
       "      <td>162541</td>\n",
       "      <td>4993</td>\n",
       "      <td>5.0</td>\n",
       "      <td>1240952610</td>\n",
       "    </tr>\n",
       "    <tr>\n",
       "      <th>25000058</th>\n",
       "      <td>162541</td>\n",
       "      <td>4995</td>\n",
       "      <td>5.0</td>\n",
       "      <td>1240951903</td>\n",
       "    </tr>\n",
       "    <tr>\n",
       "      <th>25000065</th>\n",
       "      <td>162541</td>\n",
       "      <td>5952</td>\n",
       "      <td>5.0</td>\n",
       "      <td>1240952617</td>\n",
       "    </tr>\n",
       "    <tr>\n",
       "      <th>25000078</th>\n",
       "      <td>162541</td>\n",
       "      <td>7153</td>\n",
       "      <td>5.0</td>\n",
       "      <td>1240952613</td>\n",
       "    </tr>\n",
       "    <tr>\n",
       "      <th>25000081</th>\n",
       "      <td>162541</td>\n",
       "      <td>7361</td>\n",
       "      <td>4.5</td>\n",
       "      <td>1240953484</td>\n",
       "    </tr>\n",
       "  </tbody>\n",
       "</table>\n",
       "<p>1624418 rows × 4 columns</p>\n",
       "</div>"
      ],
      "text/plain": [
       "          userId  movieId  rating   timestamp\n",
       "0              1      296     5.0  1147880044\n",
       "29             1     4973     4.5  1147869080\n",
       "48             1     7361     5.0  1147880055\n",
       "72             2      110     5.0  1141416589\n",
       "76             2      260     5.0  1141417172\n",
       "...          ...      ...     ...         ...\n",
       "25000057  162541     4993     5.0  1240952610\n",
       "25000058  162541     4995     5.0  1240951903\n",
       "25000065  162541     5952     5.0  1240952617\n",
       "25000078  162541     7153     5.0  1240952613\n",
       "25000081  162541     7361     4.5  1240953484\n",
       "\n",
       "[1624418 rows x 4 columns]"
      ]
     },
     "execution_count": 93,
     "metadata": {},
     "output_type": "execute_result"
    }
   ],
   "source": [
    "all_users_in_dataset"
   ]
  },
  {
   "cell_type": "code",
   "execution_count": 95,
   "id": "efd409ac",
   "metadata": {},
   "outputs": [],
   "source": [
    "all_users_recommendations = all_users_in_dataset[\"movieId\"].value_counts() / len(all_users_in_dataset[\"userId\"].unique()) # find % of all users who recommended these movies that are in similar user recommendations"
   ]
  },
  {
   "cell_type": "code",
   "execution_count": 96,
   "id": "8578d59d",
   "metadata": {},
   "outputs": [
    {
     "data": {
      "text/plain": [
       "318     0.343851\n",
       "296     0.286030\n",
       "2571    0.245196\n",
       "356     0.236387\n",
       "593     0.226985\n",
       "          ...   \n",
       "2011    0.032916\n",
       "500     0.030913\n",
       "349     0.030627\n",
       "587     0.030341\n",
       "316     0.027759\n",
       "Name: movieId, Length: 106, dtype: float64"
      ]
     },
     "execution_count": 96,
     "metadata": {},
     "output_type": "execute_result"
    }
   ],
   "source": [
    "all_users_recommendations"
   ]
  },
  {
   "cell_type": "code",
   "execution_count": 97,
   "id": "d97e6423",
   "metadata": {},
   "outputs": [],
   "source": [
    "# ********** CREATE RECOMMENDATION SCORE ********** "
   ]
  },
  {
   "cell_type": "code",
   "execution_count": 98,
   "id": "35082f11",
   "metadata": {},
   "outputs": [],
   "source": [
    "# Compare percentages"
   ]
  },
  {
   "cell_type": "code",
   "execution_count": 101,
   "id": "876620c9",
   "metadata": {},
   "outputs": [],
   "source": [
    "recommendation_percentages = pd.concat([similar_user_recommendations, all_users_recommendations], axis=1) # Use pandas concantenate method to combine these 2 series together\n",
    "recommendation_percentages.columns = [\"Similar Users\", \"All Users\"] # Each series will be a column"
   ]
  },
  {
   "cell_type": "code",
   "execution_count": 102,
   "id": "e8ac9816",
   "metadata": {},
   "outputs": [
    {
     "data": {
      "text/html": [
       "<div>\n",
       "<style scoped>\n",
       "    .dataframe tbody tr th:only-of-type {\n",
       "        vertical-align: middle;\n",
       "    }\n",
       "\n",
       "    .dataframe tbody tr th {\n",
       "        vertical-align: top;\n",
       "    }\n",
       "\n",
       "    .dataframe thead th {\n",
       "        text-align: right;\n",
       "    }\n",
       "</style>\n",
       "<table border=\"1\" class=\"dataframe\">\n",
       "  <thead>\n",
       "    <tr style=\"text-align: right;\">\n",
       "      <th></th>\n",
       "      <th>Similar Users</th>\n",
       "      <th>All Users</th>\n",
       "    </tr>\n",
       "  </thead>\n",
       "  <tbody>\n",
       "    <tr>\n",
       "      <th>480</th>\n",
       "      <td>1.000000</td>\n",
       "      <td>0.100365</td>\n",
       "    </tr>\n",
       "    <tr>\n",
       "      <th>356</th>\n",
       "      <td>0.468046</td>\n",
       "      <td>0.236387</td>\n",
       "    </tr>\n",
       "    <tr>\n",
       "      <th>318</th>\n",
       "      <td>0.445505</td>\n",
       "      <td>0.343851</td>\n",
       "    </tr>\n",
       "    <tr>\n",
       "      <th>589</th>\n",
       "      <td>0.401485</td>\n",
       "      <td>0.135396</td>\n",
       "    </tr>\n",
       "    <tr>\n",
       "      <th>260</th>\n",
       "      <td>0.399894</td>\n",
       "      <td>0.223265</td>\n",
       "    </tr>\n",
       "    <tr>\n",
       "      <th>...</th>\n",
       "      <td>...</td>\n",
       "      <td>...</td>\n",
       "    </tr>\n",
       "    <tr>\n",
       "      <th>3793</th>\n",
       "      <td>0.101565</td>\n",
       "      <td>0.038292</td>\n",
       "    </tr>\n",
       "    <tr>\n",
       "      <th>912</th>\n",
       "      <td>0.101167</td>\n",
       "      <td>0.093039</td>\n",
       "    </tr>\n",
       "    <tr>\n",
       "      <th>750</th>\n",
       "      <td>0.101167</td>\n",
       "      <td>0.095288</td>\n",
       "    </tr>\n",
       "    <tr>\n",
       "      <th>587</th>\n",
       "      <td>0.100305</td>\n",
       "      <td>0.030341</td>\n",
       "    </tr>\n",
       "    <tr>\n",
       "      <th>1732</th>\n",
       "      <td>0.100305</td>\n",
       "      <td>0.078248</td>\n",
       "    </tr>\n",
       "  </tbody>\n",
       "</table>\n",
       "<p>106 rows × 2 columns</p>\n",
       "</div>"
      ],
      "text/plain": [
       "      Similar Users  All Users\n",
       "480        1.000000   0.100365\n",
       "356        0.468046   0.236387\n",
       "318        0.445505   0.343851\n",
       "589        0.401485   0.135396\n",
       "260        0.399894   0.223265\n",
       "...             ...        ...\n",
       "3793       0.101565   0.038292\n",
       "912        0.101167   0.093039\n",
       "750        0.101167   0.095288\n",
       "587        0.100305   0.030341\n",
       "1732       0.100305   0.078248\n",
       "\n",
       "[106 rows x 2 columns]"
      ]
     },
     "execution_count": 102,
     "metadata": {},
     "output_type": "execute_result"
    }
   ],
   "source": [
    "recommendation_percentages"
   ]
  },
  {
   "cell_type": "code",
   "execution_count": 104,
   "id": "d926e73e",
   "metadata": {},
   "outputs": [],
   "source": [
    "# Shows each of the movies that were recommended and how much users who are similar liked them (Similar Users)\n",
    "# And how much just the avg person liked them (All Users)\n",
    "\n",
    "# We want movies that have a large difference between the numbers across the 2 columns\n",
    "# So we'll create a score that divides one by the other"
   ]
  },
  {
   "cell_type": "code",
   "execution_count": 107,
   "id": "deb20bc0",
   "metadata": {},
   "outputs": [],
   "source": [
    "recommendation_percentages[\"Recommendation Score\"] = recommendation_percentages[\"Similar Users\"] / recommendation_percentages[\"All Users\"]"
   ]
  },
  {
   "cell_type": "code",
   "execution_count": 108,
   "id": "a8c2fb2c",
   "metadata": {},
   "outputs": [],
   "source": [
    "# Sort these recommendations using pandas sort value method\n",
    "recommendation_percentages = recommendation_percentages.sort_values(\"Recommendation Score\", ascending=False)"
   ]
  },
  {
   "cell_type": "code",
   "execution_count": 109,
   "id": "e069d86b",
   "metadata": {},
   "outputs": [
    {
     "data": {
      "text/html": [
       "<div>\n",
       "<style scoped>\n",
       "    .dataframe tbody tr th:only-of-type {\n",
       "        vertical-align: middle;\n",
       "    }\n",
       "\n",
       "    .dataframe tbody tr th {\n",
       "        vertical-align: top;\n",
       "    }\n",
       "\n",
       "    .dataframe thead th {\n",
       "        text-align: right;\n",
       "    }\n",
       "</style>\n",
       "<table border=\"1\" class=\"dataframe\">\n",
       "  <thead>\n",
       "    <tr style=\"text-align: right;\">\n",
       "      <th></th>\n",
       "      <th>Similar Users</th>\n",
       "      <th>All Users</th>\n",
       "      <th>Recommendation Score</th>\n",
       "    </tr>\n",
       "  </thead>\n",
       "  <tbody>\n",
       "    <tr>\n",
       "      <th>480</th>\n",
       "      <td>1.000000</td>\n",
       "      <td>0.100365</td>\n",
       "      <td>9.963670</td>\n",
       "    </tr>\n",
       "    <tr>\n",
       "      <th>377</th>\n",
       "      <td>0.163418</td>\n",
       "      <td>0.040514</td>\n",
       "      <td>4.033576</td>\n",
       "    </tr>\n",
       "    <tr>\n",
       "      <th>316</th>\n",
       "      <td>0.103951</td>\n",
       "      <td>0.027759</td>\n",
       "      <td>3.744735</td>\n",
       "    </tr>\n",
       "    <tr>\n",
       "      <th>780</th>\n",
       "      <td>0.200477</td>\n",
       "      <td>0.054321</td>\n",
       "      <td>3.690610</td>\n",
       "    </tr>\n",
       "    <tr>\n",
       "      <th>500</th>\n",
       "      <td>0.112437</td>\n",
       "      <td>0.030913</td>\n",
       "      <td>3.637190</td>\n",
       "    </tr>\n",
       "    <tr>\n",
       "      <th>...</th>\n",
       "      <td>...</td>\n",
       "      <td>...</td>\n",
       "      <td>...</td>\n",
       "    </tr>\n",
       "    <tr>\n",
       "      <th>858</th>\n",
       "      <td>0.235017</td>\n",
       "      <td>0.211056</td>\n",
       "      <td>1.113531</td>\n",
       "    </tr>\n",
       "    <tr>\n",
       "      <th>2858</th>\n",
       "      <td>0.186025</td>\n",
       "      <td>0.168432</td>\n",
       "      <td>1.104450</td>\n",
       "    </tr>\n",
       "    <tr>\n",
       "      <th>912</th>\n",
       "      <td>0.101167</td>\n",
       "      <td>0.093039</td>\n",
       "      <td>1.087360</td>\n",
       "    </tr>\n",
       "    <tr>\n",
       "      <th>750</th>\n",
       "      <td>0.101167</td>\n",
       "      <td>0.095288</td>\n",
       "      <td>1.061697</td>\n",
       "    </tr>\n",
       "    <tr>\n",
       "      <th>4973</th>\n",
       "      <td>0.103686</td>\n",
       "      <td>0.112940</td>\n",
       "      <td>0.918062</td>\n",
       "    </tr>\n",
       "  </tbody>\n",
       "</table>\n",
       "<p>106 rows × 3 columns</p>\n",
       "</div>"
      ],
      "text/plain": [
       "      Similar Users  All Users  Recommendation Score\n",
       "480        1.000000   0.100365              9.963670\n",
       "377        0.163418   0.040514              4.033576\n",
       "316        0.103951   0.027759              3.744735\n",
       "780        0.200477   0.054321              3.690610\n",
       "500        0.112437   0.030913              3.637190\n",
       "...             ...        ...                   ...\n",
       "858        0.235017   0.211056              1.113531\n",
       "2858       0.186025   0.168432              1.104450\n",
       "912        0.101167   0.093039              1.087360\n",
       "750        0.101167   0.095288              1.061697\n",
       "4973       0.103686   0.112940              0.918062\n",
       "\n",
       "[106 rows x 3 columns]"
      ]
     },
     "execution_count": 109,
     "metadata": {},
     "output_type": "execute_result"
    }
   ],
   "source": [
    "recommendation_percentages"
   ]
  },
  {
   "cell_type": "code",
   "execution_count": null,
   "id": "c03fcbf2",
   "metadata": {},
   "outputs": [],
   "source": [
    "# ********** DESCRIPTIVE METHOD **********\n",
    "\n",
    "# Use the MovieLens 25M dataset to predict similar movies based on the movie the user inputs, showing similarity scores"
   ]
  },
  {
   "cell_type": "code",
   "execution_count": 110,
   "id": "a7946835",
   "metadata": {},
   "outputs": [],
   "source": [
    "# The higher the score, the better the recommendation"
   ]
  },
  {
   "cell_type": "code",
   "execution_count": 111,
   "id": "e9d92008",
   "metadata": {},
   "outputs": [],
   "source": [
    "# Take the top 10 recommendations and merge that with our movies data \n",
    "# so we can get the titles of these movies"
   ]
  },
  {
   "cell_type": "code",
   "execution_count": 112,
   "id": "2c1a09f4",
   "metadata": {},
   "outputs": [
    {
     "data": {
      "text/html": [
       "<div>\n",
       "<style scoped>\n",
       "    .dataframe tbody tr th:only-of-type {\n",
       "        vertical-align: middle;\n",
       "    }\n",
       "\n",
       "    .dataframe tbody tr th {\n",
       "        vertical-align: top;\n",
       "    }\n",
       "\n",
       "    .dataframe thead th {\n",
       "        text-align: right;\n",
       "    }\n",
       "</style>\n",
       "<table border=\"1\" class=\"dataframe\">\n",
       "  <thead>\n",
       "    <tr style=\"text-align: right;\">\n",
       "      <th></th>\n",
       "      <th>Similar Users</th>\n",
       "      <th>All Users</th>\n",
       "      <th>Recommendation Score</th>\n",
       "      <th>movieId</th>\n",
       "      <th>title</th>\n",
       "      <th>genres</th>\n",
       "    </tr>\n",
       "  </thead>\n",
       "  <tbody>\n",
       "    <tr>\n",
       "      <th>475</th>\n",
       "      <td>1.000000</td>\n",
       "      <td>0.100365</td>\n",
       "      <td>9.963670</td>\n",
       "      <td>480</td>\n",
       "      <td>Jurassic Park (1993)</td>\n",
       "      <td>Action|Adventure|Sci-Fi|Thriller</td>\n",
       "    </tr>\n",
       "    <tr>\n",
       "      <th>372</th>\n",
       "      <td>0.163418</td>\n",
       "      <td>0.040514</td>\n",
       "      <td>4.033576</td>\n",
       "      <td>377</td>\n",
       "      <td>Speed (1994)</td>\n",
       "      <td>Action|Romance|Thriller</td>\n",
       "    </tr>\n",
       "    <tr>\n",
       "      <th>312</th>\n",
       "      <td>0.103951</td>\n",
       "      <td>0.027759</td>\n",
       "      <td>3.744735</td>\n",
       "      <td>316</td>\n",
       "      <td>Stargate (1994)</td>\n",
       "      <td>Action|Adventure|Sci-Fi</td>\n",
       "    </tr>\n",
       "    <tr>\n",
       "      <th>764</th>\n",
       "      <td>0.200477</td>\n",
       "      <td>0.054321</td>\n",
       "      <td>3.690610</td>\n",
       "      <td>780</td>\n",
       "      <td>Independence Day (a.k.a. ID4) (1996)</td>\n",
       "      <td>Action|Adventure|Sci-Fi|Thriller</td>\n",
       "    </tr>\n",
       "    <tr>\n",
       "      <th>495</th>\n",
       "      <td>0.112437</td>\n",
       "      <td>0.030913</td>\n",
       "      <td>3.637190</td>\n",
       "      <td>500</td>\n",
       "      <td>Mrs. Doubtfire (1993)</td>\n",
       "      <td>Comedy|Drama</td>\n",
       "    </tr>\n",
       "    <tr>\n",
       "      <th>375</th>\n",
       "      <td>0.156855</td>\n",
       "      <td>0.043535</td>\n",
       "      <td>3.602941</td>\n",
       "      <td>380</td>\n",
       "      <td>True Lies (1994)</td>\n",
       "      <td>Action|Adventure|Comedy|Romance|Thriller</td>\n",
       "    </tr>\n",
       "    <tr>\n",
       "      <th>163</th>\n",
       "      <td>0.120790</td>\n",
       "      <td>0.034772</td>\n",
       "      <td>3.473748</td>\n",
       "      <td>165</td>\n",
       "      <td>Die Hard: With a Vengeance (1995)</td>\n",
       "      <td>Action|Crime|Thriller</td>\n",
       "    </tr>\n",
       "    <tr>\n",
       "      <th>584</th>\n",
       "      <td>0.116746</td>\n",
       "      <td>0.033641</td>\n",
       "      <td>3.470337</td>\n",
       "      <td>592</td>\n",
       "      <td>Batman (1989)</td>\n",
       "      <td>Action|Crime|Thriller</td>\n",
       "    </tr>\n",
       "    <tr>\n",
       "      <th>344</th>\n",
       "      <td>0.101763</td>\n",
       "      <td>0.030627</td>\n",
       "      <td>3.322666</td>\n",
       "      <td>349</td>\n",
       "      <td>Clear and Present Danger (1994)</td>\n",
       "      <td>Action|Crime|Drama|Thriller</td>\n",
       "    </tr>\n",
       "    <tr>\n",
       "      <th>579</th>\n",
       "      <td>0.100305</td>\n",
       "      <td>0.030341</td>\n",
       "      <td>3.305928</td>\n",
       "      <td>587</td>\n",
       "      <td>Ghost (1990)</td>\n",
       "      <td>Comedy|Drama|Fantasy|Romance|Thriller</td>\n",
       "    </tr>\n",
       "  </tbody>\n",
       "</table>\n",
       "</div>"
      ],
      "text/plain": [
       "     Similar Users  All Users  Recommendation Score  movieId  \\\n",
       "475       1.000000   0.100365              9.963670      480   \n",
       "372       0.163418   0.040514              4.033576      377   \n",
       "312       0.103951   0.027759              3.744735      316   \n",
       "764       0.200477   0.054321              3.690610      780   \n",
       "495       0.112437   0.030913              3.637190      500   \n",
       "375       0.156855   0.043535              3.602941      380   \n",
       "163       0.120790   0.034772              3.473748      165   \n",
       "584       0.116746   0.033641              3.470337      592   \n",
       "344       0.101763   0.030627              3.322666      349   \n",
       "579       0.100305   0.030341              3.305928      587   \n",
       "\n",
       "                                    title  \\\n",
       "475                  Jurassic Park (1993)   \n",
       "372                          Speed (1994)   \n",
       "312                       Stargate (1994)   \n",
       "764  Independence Day (a.k.a. ID4) (1996)   \n",
       "495                 Mrs. Doubtfire (1993)   \n",
       "375                      True Lies (1994)   \n",
       "163     Die Hard: With a Vengeance (1995)   \n",
       "584                         Batman (1989)   \n",
       "344       Clear and Present Danger (1994)   \n",
       "579                          Ghost (1990)   \n",
       "\n",
       "                                       genres  \n",
       "475          Action|Adventure|Sci-Fi|Thriller  \n",
       "372                   Action|Romance|Thriller  \n",
       "312                   Action|Adventure|Sci-Fi  \n",
       "764          Action|Adventure|Sci-Fi|Thriller  \n",
       "495                              Comedy|Drama  \n",
       "375  Action|Adventure|Comedy|Romance|Thriller  \n",
       "163                     Action|Crime|Thriller  \n",
       "584                     Action|Crime|Thriller  \n",
       "344               Action|Crime|Drama|Thriller  \n",
       "579     Comedy|Drama|Fantasy|Romance|Thriller  "
      ]
     },
     "execution_count": 112,
     "metadata": {},
     "output_type": "execute_result"
    }
   ],
   "source": [
    "recommendation_percentages.head(10).merge(movies, left_index=True, right_on=\"movieId\") "
   ]
  },
  {
   "cell_type": "code",
   "execution_count": 113,
   "id": "9e387168",
   "metadata": {},
   "outputs": [],
   "source": [
    "# ********** BUILD RECOMMENDATION FUNCTION ********** "
   ]
  },
  {
   "cell_type": "code",
   "execution_count": 132,
   "id": "699db836",
   "metadata": {},
   "outputs": [],
   "source": [
    "def find_movie_recs(movie_id):\n",
    "    # find movie recommendations for similar users\n",
    "    users_who_like_similar = movie_ratings[(movie_ratings[\"movieId\"] == movie_id) & (movie_ratings[\"rating\"] > 4)][\"userId\"].unique()\n",
    "    similar_user_recommendations = movie_ratings[(movie_ratings[\"userId\"].isin(users_who_like_similar)) & (movie_ratings[\"rating\"] > 4)][\"movieId\"]\n",
    "    # find movie recommendations where over 10% of users recommended the movie\n",
    "    similar_user_recommendations = similar_user_recommendations.value_counts() / len(users_who_like_similar)\n",
    "    similar_user_recommendations = similar_user_recommendations[similar_user_recommendations > .10]\n",
    "    # find how common the recommendations were among all users \n",
    "    all_users_in_dataset = movie_ratings[(movie_ratings[\"movieId\"].isin(similar_user_recommendations.index)) & (movie_ratings[\"rating\"] > 4)]\n",
    "    all_users_recommendations = all_users_in_dataset[\"movieId\"].value_counts() / len(all_users_in_dataset[\"userId\"].unique())\n",
    "    # create recommendation score\n",
    "    recommendation_percentages = pd.concat([similar_user_recommendations, all_users_recommendations], axis=1)\n",
    "    recommendation_percentages.columns = [\"Similar Users\", \"All Users\"]   \n",
    "    recommendation_percentages[\"Recommendation Score\"] = recommendation_percentages[\"Similar Users\"] / recommendation_percentages[\"All Users\"]  \n",
    "    # sort and return recommendation score\n",
    "    recommendation_percentages = recommendation_percentages.sort_values(\"Recommendation Score\", ascending=False)\n",
    "    return recommendation_percentages.head(10).merge(movies, left_index=True, right_on=\"movieId\")[[\"Recommendation Score\", \"title\", \"genres\"]]"
   ]
  },
  {
   "cell_type": "code",
   "execution_count": 133,
   "id": "97fa655b",
   "metadata": {},
   "outputs": [],
   "source": [
    "# ********** INTERACTIVE RECOMMENDATION WIDGET ********** "
   ]
  },
  {
   "cell_type": "code",
   "execution_count": 134,
   "id": "80972b98",
   "metadata": {},
   "outputs": [
    {
     "data": {
      "application/vnd.jupyter.widget-view+json": {
       "model_id": "0c02e49590b04645b2292be56220ed7c",
       "version_major": 2,
       "version_minor": 0
      },
      "text/plain": [
       "Text(value='Jurassic Park', description='Movie Name:')"
      ]
     },
     "metadata": {},
     "output_type": "display_data"
    },
    {
     "data": {
      "application/vnd.jupyter.widget-view+json": {
       "model_id": "1178fcd17b1246249e35b556a6cf4ce0",
       "version_major": 2,
       "version_minor": 0
      },
      "text/plain": [
       "Output()"
      ]
     },
     "metadata": {},
     "output_type": "display_data"
    }
   ],
   "source": [
    "# Create input widget\n",
    "input_movie_name = widgets.Text( \n",
    "    value='Jurassic Park', # default title\n",
    "    description='Movie Name:',\n",
    "    disabled=False\n",
    ")\n",
    "\n",
    "# Create output widget\n",
    "movie_recommendations = widgets.Output()\n",
    "\n",
    "# On-type function\n",
    "def text_entered(data):\n",
    "    with movie_recommendations:\n",
    "        movie_recommendations.clear_output() # clear list\n",
    "        title = data[\"new\"] # movie name from input\n",
    "        if len(title) > 5:\n",
    "            movie_recs = lookup_movie(title)\n",
    "            movie_id = movie_recs.iloc[0][\"movieId\"]\n",
    "            display(find_movie_recs(movie_id))\n",
    "\n",
    "# Observe movie input                  \n",
    "input_movie_name.observe(text_entered, names='value')\n",
    "\n",
    "# Display widget                    \n",
    "display(input_movie_name, movie_recommendations)"
   ]
  }
 ],
 "metadata": {
  "kernelspec": {
   "display_name": "Python 3 (ipykernel)",
   "language": "python",
   "name": "python3"
  },
  "language_info": {
   "codemirror_mode": {
    "name": "ipython",
    "version": 3
   },
   "file_extension": ".py",
   "mimetype": "text/x-python",
   "name": "python",
   "nbconvert_exporter": "python",
   "pygments_lexer": "ipython3",
   "version": "3.10.9"
  }
 },
 "nbformat": 4,
 "nbformat_minor": 5
}
